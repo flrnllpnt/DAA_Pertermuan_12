{
  "nbformat": 4,
  "nbformat_minor": 0,
  "metadata": {
    "colab": {
      "name": "Pertemuan 12.ipynb",
      "provenance": [],
      "collapsed_sections": []
    },
    "kernelspec": {
      "name": "python3",
      "display_name": "Python 3"
    }
  },
  "cells": [
    {
      "cell_type": "markdown",
      "metadata": {
        "id": "pUryPENsmWSt"
      },
      "source": [
        "**Algoritma BFS dan DFS**"
      ]
    },
    {
      "cell_type": "markdown",
      "metadata": {
        "id": "EKPH7k2wm3pa"
      },
      "source": [
        "Algoritma BFS"
      ]
    },
    {
      "cell_type": "code",
      "metadata": {
        "id": "mcmZUDgNmUV0"
      },
      "source": [
        "graph={ 'Amin' : {'Wasim', 'Nick', 'Mike'},\r\n",
        "        'Wasim' : {'Imran', 'Amin'},\r\n",
        "        'Imran' : {'Wasim', 'Faras'},\r\n",
        "        'Faras' : {'Imran'},\r\n",
        "        'Mike' : {'Amin'},\r\n",
        "        'Nick' : {'Amin'}}"
      ],
      "execution_count": null,
      "outputs": []
    },
    {
      "cell_type": "code",
      "metadata": {
        "id": "wSjDrD9aoJqj"
      },
      "source": [
        "def bfs(graph, start):\r\n",
        "    visited = []\r\n",
        "    queue = [start]\r\n",
        "\r\n",
        "    while queue:\r\n",
        "        node = queue.pop(0)\r\n",
        "        if node not in visited:\r\n",
        "            visited.append(node)\r\n",
        "            neighbours = graph[node]\r\n",
        "            for neighbour in neighbours:\r\n",
        "                queue.append(neighbour)\r\n",
        "    return visited"
      ],
      "execution_count": null,
      "outputs": []
    },
    {
      "cell_type": "code",
      "metadata": {
        "colab": {
          "base_uri": "https://localhost:8080/"
        },
        "id": "Vqfq1J9to0Wm",
        "outputId": "4e0849b6-902b-460b-e40a-a119ebbbf85f"
      },
      "source": [
        "# O amin ---------------\r\n",
        "# |          |          |\r\n",
        "# O wasim    O nick     O mike\r\n",
        "# |\r\n",
        "# O imran\r\n",
        "# |\r\n",
        "# O faras\r\n",
        "\r\n",
        "bfs(graph, 'Amin')"
      ],
      "execution_count": null,
      "outputs": [
        {
          "output_type": "execute_result",
          "data": {
            "text/plain": [
              "['Amin', 'Wasim', 'Nick', 'Mike', 'Imran', 'Faras']"
            ]
          },
          "metadata": {
            "tags": []
          },
          "execution_count": 3
        }
      ]
    },
    {
      "cell_type": "code",
      "metadata": {
        "colab": {
          "base_uri": "https://localhost:8080/"
        },
        "id": "upt8t42gl-li",
        "outputId": "54d8d7de-c2b3-4e23-b021-190605b99792"
      },
      "source": [
        "# O wasim ----\r\n",
        "# |          |\r\n",
        "# O imran    O amin ----\r\n",
        "# |          |         |\r\n",
        "# O faras    O nick    O mike\r\n",
        "\r\n",
        "bfs(graph, 'Wasim')"
      ],
      "execution_count": null,
      "outputs": [
        {
          "output_type": "execute_result",
          "data": {
            "text/plain": [
              "['Wasim', 'Amin', 'Imran', 'Nick', 'Mike', 'Faras']"
            ]
          },
          "metadata": {
            "tags": []
          },
          "execution_count": 4
        }
      ]
    },
    {
      "cell_type": "code",
      "metadata": {
        "colab": {
          "base_uri": "https://localhost:8080/"
        },
        "id": "Kur1GG2wmBFY",
        "outputId": "22d5d011-06d0-4b28-e08b-06b6e413cfe2"
      },
      "source": [
        "# O faras\r\n",
        "# |\r\n",
        "# O imran\r\n",
        "# |\r\n",
        "# O wasim  O nick O micke\r\n",
        "# |        |      |\r\n",
        "# O amin ----------\r\n",
        "\r\n",
        "bfs(graph, 'Faras')"
      ],
      "execution_count": null,
      "outputs": [
        {
          "output_type": "execute_result",
          "data": {
            "text/plain": [
              "['Faras', 'Imran', 'Wasim', 'Amin', 'Nick', 'Mike']"
            ]
          },
          "metadata": {
            "tags": []
          },
          "execution_count": 5
        }
      ]
    },
    {
      "cell_type": "markdown",
      "metadata": {
        "id": "G9K8CzCImEKf"
      },
      "source": [
        "Algoritma DFS"
      ]
    },
    {
      "cell_type": "code",
      "metadata": {
        "id": "Ywq5vZN1mG0g"
      },
      "source": [
        "def dfs(graph, start, visited=None):\r\n",
        "    if visited is None:\r\n",
        "        visited = set()\r\n",
        "    visited.add(start)\r\n",
        "    print(start)\r\n",
        "    for next in graph[start] - visited:\r\n",
        "        dfs(graph, next, visited)\r\n",
        "    return visited"
      ],
      "execution_count": null,
      "outputs": []
    },
    {
      "cell_type": "code",
      "metadata": {
        "id": "PzMHpJW0mJUI"
      },
      "source": [
        "graph={ 'Amin' : {'Wasim', 'Nick', 'Mike'},\r\n",
        "        'Wasim' : {'Imran', 'Amin'},\r\n",
        "        'Imran' : {'Wasim', 'Faras'},\r\n",
        "        'Faras' : {'Imran'},\r\n",
        "        'Mike' : {'Amin'},\r\n",
        "        'Nick' : {'Amin'}}"
      ],
      "execution_count": null,
      "outputs": []
    },
    {
      "cell_type": "code",
      "metadata": {
        "colab": {
          "base_uri": "https://localhost:8080/"
        },
        "id": "3zHYzw9ymLNI",
        "outputId": "01255078-a296-4be3-eb0b-e4d01871c231"
      },
      "source": [
        "# O amin ---------------\r\n",
        "# |          |          |\r\n",
        "# O wasim    O nick     O mike\r\n",
        "# |\r\n",
        "# O imran\r\n",
        "# |\r\n",
        "# O faras\r\n",
        "#\r\n",
        "# turun dari amin ke faras, geser ke nick & mike\r\n",
        "\r\n",
        "dfs(graph, 'Amin')"
      ],
      "execution_count": null,
      "outputs": [
        {
          "output_type": "stream",
          "text": [
            "Amin\n",
            "Wasim\n",
            "Imran\n",
            "Faras\n",
            "Nick\n",
            "Mike\n"
          ],
          "name": "stdout"
        },
        {
          "output_type": "execute_result",
          "data": {
            "text/plain": [
              "{'Amin', 'Faras', 'Imran', 'Mike', 'Nick', 'Wasim'}"
            ]
          },
          "metadata": {
            "tags": []
          },
          "execution_count": 8
        }
      ]
    },
    {
      "cell_type": "code",
      "metadata": {
        "colab": {
          "base_uri": "https://localhost:8080/"
        },
        "id": "HqJlvj8NmONy",
        "outputId": "8ce76050-6f86-40e8-9a4f-5bb719455760"
      },
      "source": [
        "# O amin ---------------\r\n",
        "# |          |          |\r\n",
        "# O wasim    O nick     O mike\r\n",
        "# |\r\n",
        "# O imran\r\n",
        "# |\r\n",
        "# O faras\r\n",
        "#\r\n",
        "# turun dari wasim ke faras, geser ke nick & mike\r\n",
        "\r\n",
        "dfs(graph, 'Wasim')"
      ],
      "execution_count": null,
      "outputs": [
        {
          "output_type": "stream",
          "text": [
            "Wasim\n",
            "Amin\n",
            "Nick\n",
            "Mike\n",
            "Imran\n",
            "Faras\n"
          ],
          "name": "stdout"
        },
        {
          "output_type": "execute_result",
          "data": {
            "text/plain": [
              "{'Amin', 'Faras', 'Imran', 'Mike', 'Nick', 'Wasim'}"
            ]
          },
          "metadata": {
            "tags": []
          },
          "execution_count": 9
        }
      ]
    },
    {
      "cell_type": "code",
      "metadata": {
        "colab": {
          "base_uri": "https://localhost:8080/"
        },
        "id": "F4D1khfDmRlf",
        "outputId": "1e877516-7629-4c2f-ed70-6e13f6dd8e4f"
      },
      "source": [
        "# O amin ---------------\r\n",
        "# |          |          |\r\n",
        "# O wasim    O nick     O mike\r\n",
        "# |\r\n",
        "# O imran\r\n",
        "# |\r\n",
        "# O faras\r\n",
        "#\r\n",
        "# turun dari faras ke amin, geser ke nick & mike\r\n",
        "\r\n",
        "dfs(graph, 'Faras')"
      ],
      "execution_count": null,
      "outputs": [
        {
          "output_type": "stream",
          "text": [
            "Faras\n",
            "Imran\n",
            "Wasim\n",
            "Amin\n",
            "Nick\n",
            "Mike\n"
          ],
          "name": "stdout"
        },
        {
          "output_type": "execute_result",
          "data": {
            "text/plain": [
              "{'Amin', 'Faras', 'Imran', 'Mike', 'Nick', 'Wasim'}"
            ]
          },
          "metadata": {
            "tags": []
          },
          "execution_count": 10
        }
      ]
    },
    {
      "cell_type": "code",
      "metadata": {
        "colab": {
          "base_uri": "https://localhost:8080/"
        },
        "id": "iWgGHQqcmTo2",
        "outputId": "812c26b4-17de-4104-db17-70e58879ea43"
      },
      "source": [
        "# O amin ---------------\r\n",
        "# |          |          |\r\n",
        "# O wasim    O nick     O mike\r\n",
        "# |\r\n",
        "# O imran\r\n",
        "# |\r\n",
        "# O faras\r\n",
        "#\r\n",
        "# naik nick ke amin, turun ke faras, geser ke mike\r\n",
        "\r\n",
        "dfs(graph, 'Nick')"
      ],
      "execution_count": null,
      "outputs": [
        {
          "output_type": "stream",
          "text": [
            "Nick\n",
            "Amin\n",
            "Wasim\n",
            "Imran\n",
            "Faras\n",
            "Mike\n"
          ],
          "name": "stdout"
        },
        {
          "output_type": "execute_result",
          "data": {
            "text/plain": [
              "{'Amin', 'Faras', 'Imran', 'Mike', 'Nick', 'Wasim'}"
            ]
          },
          "metadata": {
            "tags": []
          },
          "execution_count": 11
        }
      ]
    }
  ]
}